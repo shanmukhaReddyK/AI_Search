{
  "nbformat": 4,
  "nbformat_minor": 0,
  "metadata": {
    "colab": {
      "provenance": [],
      "authorship_tag": "ABX9TyOjALGisQj0InwVWSAOFzr0",
      "include_colab_link": true
    },
    "kernelspec": {
      "name": "python3",
      "display_name": "Python 3"
    },
    "language_info": {
      "name": "python"
    }
  },
  "cells": [
    {
      "cell_type": "markdown",
      "metadata": {
        "id": "view-in-github",
        "colab_type": "text"
      },
      "source": [
        "<a href=\"https://colab.research.google.com/github/shanmukhaReddyK/AI_Search/blob/main/A_star_grid.ipynb\" target=\"_parent\"><img src=\"https://colab.research.google.com/assets/colab-badge.svg\" alt=\"Open In Colab\"/></a>"
      ]
    },
    {
      "cell_type": "code",
      "execution_count": null,
      "metadata": {
        "colab": {
          "base_uri": "https://localhost:8080/"
        },
        "id": "yT0Pc6C_s62m",
        "outputId": "0097282e-6dee-452e-d7f1-ad78259efbe1"
      },
      "outputs": [
        {
          "output_type": "stream",
          "name": "stdout",
          "text": [
            "Map with obstacles\n",
            "[[0 0 0 0]\n",
            " [0 1 0 0]\n",
            " [0 1 1 0]\n",
            " [0 0 0 0]]\n",
            "Start: (0, 0)\n",
            "End: (3, 3)\n",
            "0\n",
            "0\n",
            "3\n"
          ]
        }
      ],
      "source": [
        "import numpy as np\n",
        "\n",
        "map = np.zeros((4,4), dtype=int)\n",
        "\n",
        "map[1,1]=1\n",
        "map[2,1]=1\n",
        "map[2,2]=1\n",
        "\n",
        "start = (0,0)\n",
        "end = (3,3)\n",
        "\n",
        "\n",
        "\n",
        "print(\"Map with obstacles\")\n",
        "print(map)\n",
        "print(f\"Start: {start}\")\n",
        "print(f\"End: {end}\")"
      ]
    },
    {
      "cell_type": "code",
      "source": [
        "import heapq\n",
        "\n",
        "def manhattan_distance(point1,point2):\n",
        "  #calculate manhattan distance between tow points\n",
        "  return abs(point1[0]-point2[0])+abs(point1[1]-point2[1])\n",
        "\n",
        "def astar(grid,start,goal):\n",
        "  rows, cols = grid.shape\n",
        "  open_set =[]\n",
        "\n",
        "  heapq.heappush(open_set,(0,start)) #(f_cost, node)\n",
        "\n",
        "  came_from = {}\n",
        "  g_cost = {}\n",
        "  f_cost = {}\n",
        "\n",
        "  g_cost[start] = 0\n",
        "  f_cost[start] = manhattan_distance(start, end)\n",
        "\n",
        "  while open_set:\n",
        "    current_f_cost, current_node = heapq.heappop(open_set)\n",
        "\n",
        "    if current_node == goal:\n",
        "      path = []\n",
        "      while current_node in came_from:\n",
        "        path.append(current_node)\n",
        "        current_node = came_from[current_node]\n",
        "      path.append(start)\n",
        "      path.reverse()\n",
        "      return path\n",
        "\n",
        "    #if the node is not the goal then we explore neighbors (horizontal and vertical moves)\n",
        "    for dr, dc in [(0,1),(0,-1),(1,0),(-1,0)]:\n",
        "        neighbor_row, neighbor_col = current_node[0]+dr, current_node[1]+dc\n",
        "        neighbor_node = (neighbor_row,neighbor_col)\n",
        "\n",
        "        if(0 <= neighbor_row < rows and 0 <= neighbor_col < cols and grid[neighbor_row, neighbor_col]==0):\n",
        "            tentative_g_cost = g_cost[current_node]+1\n",
        "            if neighbor_node not in g_cost or tentative_g_cost < g_cost[neighbor_node]:\n",
        "                g_cost[neighbor_node] = tentative_g_cost\n",
        "                f_cost[neighbor_node] = tentative_g_cost + manhattan_distance(neighbor_node,end)\n",
        "                heapq.heappush(open_set,(f_cost[neighbor_node], neighbor_node))\n",
        "                came_from[neighbor_node] = current_node\n",
        "  return None\n",
        "\n",
        "path = astar(map,start,end)\n",
        "\n",
        "if path:\n",
        "    print(\"shortest path found:\")\n",
        "    print(path)\n",
        "else:\n",
        "    print(\"No path found\")\n"
      ],
      "metadata": {
        "colab": {
          "base_uri": "https://localhost:8080/"
        },
        "id": "3bpE59KMTOCI",
        "outputId": "48d4a8ad-f54a-401e-bf31-6dde792a9ae1"
      },
      "execution_count": null,
      "outputs": [
        {
          "output_type": "stream",
          "name": "stdout",
          "text": [
            "shortest path found:\n",
            "[(0, 0), (0, 1), (0, 2), (0, 3), (1, 3), (2, 3), (3, 3)]\n"
          ]
        }
      ]
    }
  ]
}